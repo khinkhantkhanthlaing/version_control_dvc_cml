{
 "cells": [
  {
   "cell_type": "code",
   "execution_count": null,
   "metadata": {},
   "outputs": [],
   "source": [
    "from sklearn.neural_network import MLPClassifier\n",
    "from sklearn.metrics import recall_score, precision_score\n",
    "import json\n",
    "import os\n",
    "import numpy as np\n",
    "import pandas as pd\n"
   ]
  },
  {
   "cell_type": "code",
   "execution_count": null,
   "metadata": {},
   "outputs": [],
   "source": [
    "# Read in data\n",
    "X_train = np.genfromtxt(\"data/train_features.csv\")\n",
    "y_train = np.genfromtxt(\"data/train_labels.csv\")\n",
    "X_test = np.genfromtxt(\"data/test_features.csv\")\n",
    "y_test = np.genfromtxt(\"data/test_labels.csv\")\n"
   ]
  },
  {
   "cell_type": "code",
   "execution_count": null,
   "metadata": {},
   "outputs": [],
   "source": [
    "\n",
    "# Fit a model\n",
    "\n",
    "clf = MLPClassifier(random_state=0, max_iter=30)\n",
    "clf.fit(X_train,y_train)\n",
    "\n",
    "# Get overall accuracy\n",
    "acc = clf.score(X_test, y_test)\n",
    "\n",
    "# Get precision and recall\n",
    "y_score = clf.predict(X_test)\n",
    "prec = precision_score(y_test, y_score)\n",
    "rec = recall_score(y_test,y_score)\n",
    "\n",
    "# Get the loss\n",
    "loss = clf.loss_curve_\n",
    "pd.DataFrame(loss, columns=[\"loss\"]).to_csv(\"loss.csv\", index=False)\n"
   ]
  },
  {
   "cell_type": "code",
   "execution_count": null,
   "metadata": {},
   "outputs": [],
   "source": [
    "\n",
    "with open(\"metrics.json\", 'w') as outfile:\n",
    "        json.dump({ \"accuracy\": acc, \"precision\":prec,\"recall\":rec}, outfile)"
   ]
  }
 ],
 "metadata": {
  "kernelspec": {
   "display_name": "Python 3.9.12 ('base')",
   "language": "python",
   "name": "python3"
  },
  "language_info": {
   "name": "python",
   "version": "3.9.12"
  },
  "orig_nbformat": 4,
  "vscode": {
   "interpreter": {
    "hash": "a90aeebcf29d64a654773811cc170cb25061cb2498f10ac689db374c7bf325de"
   }
  }
 },
 "nbformat": 4,
 "nbformat_minor": 2
}
